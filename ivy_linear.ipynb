{
  "nbformat": 4,
  "nbformat_minor": 0,
  "metadata": {
    "colab": {
      "provenance": [],
      "gpuType": "T4",
      "authorship_tag": "ABX9TyMpJURxDnYia6QPh9sCSBCO",
      "include_colab_link": true
    },
    "kernelspec": {
      "name": "python3",
      "display_name": "Python 3"
    },
    "language_info": {
      "name": "python"
    },
    "accelerator": "GPU"
  },
  "cells": [
    {
      "cell_type": "markdown",
      "metadata": {
        "id": "view-in-github",
        "colab_type": "text"
      },
      "source": [
        "<a href=\"https://colab.research.google.com/github/mpnsk/ivy_seminar/blob/main/ivy_linear.ipynb\" target=\"_parent\"><img src=\"https://colab.research.google.com/assets/colab-badge.svg\" alt=\"Open In Colab\"/></a>"
      ]
    },
    {
      "cell_type": "code",
      "execution_count": 1,
      "metadata": {
        "colab": {
          "base_uri": "https://localhost:8080/"
        },
        "id": "qTC11_eABWJW",
        "outputId": "497ea4cd-2575-4610-d948-a2f2921530b2"
      },
      "outputs": [
        {
          "output_type": "stream",
          "name": "stdout",
          "text": [
            "Installing collected packages: nvidia-ml-py, einops, diskcache, colorama, ivy\n",
            "Successfully installed colorama-0.4.6 diskcache-5.6.1 einops-0.6.1 ivy-0.0.0.0.0 nvidia-ml-py-12.535.77\n",
            "--2023-08-10 06:23:50--  https://www.statlearning.com/s/Advertising.csv\n",
            "Resolving www.statlearning.com (www.statlearning.com)... 198.185.159.144, 198.49.23.145, 198.185.159.145, ...\n",
            "Connecting to www.statlearning.com (www.statlearning.com)|198.185.159.144|:443... connected.\n",
            "HTTP request sent, awaiting response... 302 Found\n",
            "Location: https://static1.squarespace.com/static/5ff2adbe3fe4fe33db902812/t/5fffe03b4091076ff5b30c72/1610604603901/Advertising.csv [following]\n",
            "--2023-08-10 06:23:51--  https://static1.squarespace.com/static/5ff2adbe3fe4fe33db902812/t/5fffe03b4091076ff5b30c72/1610604603901/Advertising.csv\n",
            "Resolving static1.squarespace.com (static1.squarespace.com)... 151.101.0.238, 151.101.64.238, 151.101.128.238, ...\n",
            "Connecting to static1.squarespace.com (static1.squarespace.com)|151.101.0.238|:443... connected.\n",
            "HTTP request sent, awaiting response... 200 OK\n",
            "Length: 4555 (4.4K) [text/csv]\n",
            "Saving to: ‘Advertising.csv’\n",
            "\n",
            "Advertising.csv     100%[===================>]   4.45K  --.-KB/s    in 0s      \n",
            "\n",
            "2023-08-10 06:23:51 (57.7 MB/s) - ‘Advertising.csv’ saved [4555/4555]\n",
            "\n",
            "Collecting dm-haiku\n",
            "  Downloading dm_haiku-0.0.10-py3-none-any.whl (360 kB)\n",
            "\u001b[2K     \u001b[90m━━━━━━━━━━━━━━━━━━━━━━━━━━━━━━━━━━━━━━━\u001b[0m \u001b[32m360.3/360.3 kB\u001b[0m \u001b[31m6.2 MB/s\u001b[0m eta \u001b[36m0:00:00\u001b[0m\n",
            "\u001b[?25hRequirement already satisfied: absl-py>=0.7.1 in /usr/local/lib/python3.10/dist-packages (from dm-haiku) (1.4.0)\n",
            "Collecting jmp>=0.0.2 (from dm-haiku)\n",
            "  Downloading jmp-0.0.4-py3-none-any.whl (18 kB)\n",
            "Requirement already satisfied: numpy>=1.18.0 in /usr/local/lib/python3.10/dist-packages (from dm-haiku) (1.23.5)\n",
            "Requirement already satisfied: tabulate>=0.8.9 in /usr/local/lib/python3.10/dist-packages (from dm-haiku) (0.9.0)\n",
            "Installing collected packages: jmp, dm-haiku\n",
            "Successfully installed dm-haiku-0.0.10 jmp-0.0.4\n"
          ]
        }
      ],
      "source": [
        "!pip install ivy\n",
        "!wget https://www.statlearning.com/s/Advertising.csv\n",
        "!pip install dm-haiku"
      ]
    },
    {
      "cell_type": "code",
      "source": [
        "import ivy\n",
        "\n",
        "# my_backend = \"torch\"\n",
        "# my_backend = \"tensorflow\"\n",
        "my_backend = \"jax\"\n",
        "if my_backend == \"jax\":\n",
        "  import jax\n",
        "  jax.config.update('jax_enable_x64', True)\n",
        "\n",
        "ivy.set_backend(my_backend)\n",
        "\n",
        "class Net(ivy.Module):\n",
        "    def __init__(self):\n",
        "        self.fc1 = ivy.Linear(1, 1)\n",
        "        super().__init__()\n",
        "\n",
        "    def _forward(self, x):\n",
        "        x = self.fc1(x)\n",
        "        return x\n",
        "\n",
        "\n",
        "arg = ivy.random_normal(shape=(1,1))\n",
        "\n",
        "model = Net()\n",
        "model = ivy.compile(model, to=my_backend, args=(arg,))\n",
        "\n",
        "import pandas as pd\n",
        "df = pd.read_csv (\"Advertising.csv\")\n",
        "x = ivy.array(df['radio'].values.astype('float32')).reshape((200 ,1 ))\n",
        "y = ivy.array(df['sales'].values.astype('float32')).reshape((200 ,1 ))\n",
        "\n",
        "\n",
        "def loss_fn(v):\n",
        "    y_new = model(x, v=v)\n",
        "    return ivy.mean((y - y_new) ** 2)\n",
        "\n",
        "lr = 0.001\n",
        "# for e in range(15000):\n",
        "for e in range(200):\n",
        "    loss, grads = ivy.execute_with_gradients(loss_fn, model.v)\n",
        "    model.v = model.v - grads * lr\n",
        "    if e % 10 == 0:\n",
        "        print(\"epoch:\", e, \"loss: \", loss)\n"
      ],
      "metadata": {
        "colab": {
          "base_uri": "https://localhost:8080/"
        },
        "id": "e3udpPJyByOH",
        "outputId": "4f456596-64a4-47a7-956c-4ccde4ab24e2"
      },
      "execution_count": 7,
      "outputs": [
        {
          "output_type": "stream",
          "name": "stderr",
          "text": [
            "/usr/local/lib/python3.10/dist-packages/ivy/compiler/compiler.py:93: FutureWarning: NaT.freq is deprecated and will be removed in a future version.\n",
            "  return _compile(\n",
            "/usr/local/lib/python3.10/dist-packages/ivy/compiler/compiler.py:93: FutureWarning: _AXIS_NUMBERS has been deprecated.\n",
            "  return _compile(\n",
            "/usr/local/lib/python3.10/dist-packages/ivy/compiler/compiler.py:93: FutureWarning: _AXIS_NAMES has been deprecated.\n",
            "  return _compile(\n",
            "/usr/local/lib/python3.10/dist-packages/ivy/compiler/compiler.py:93: FutureWarning: Index.asi8 is deprecated and will be removed in a future version.\n",
            "  return _compile(\n",
            "/usr/local/lib/python3.10/dist-packages/ivy/compiler/compiler.py:93: FutureWarning: is_monotonic is deprecated and will be removed in a future version. Use is_monotonic_increasing instead.\n",
            "  return _compile(\n",
            "/usr/local/lib/python3.10/dist-packages/ivy/compiler/compiler.py:93: FutureWarning: RangeIndex._start is deprecated and will be removed in a future version. Use RangeIndex.start instead\n",
            "  return _compile(\n",
            "/usr/local/lib/python3.10/dist-packages/ivy/compiler/compiler.py:93: FutureWarning: RangeIndex._stop is deprecated and will be removed in a future version. Use RangeIndex.stop instead\n",
            "  return _compile(\n",
            "/usr/local/lib/python3.10/dist-packages/ivy/compiler/compiler.py:93: FutureWarning: RangeIndex._step is deprecated and will be removed in a future version. Use RangeIndex.step instead\n",
            "  return _compile(\n",
            "/usr/local/lib/python3.10/dist-packages/ivy/compiler/compiler.py:93: FutureWarning: Index.is_all_dates is deprecated, will be removed in a future version. check index.inferred_type instead.\n",
            "  return _compile(\n",
            "/usr/local/lib/python3.10/dist-packages/ivy/func_wrapper.py:242: UserWarning: Creating many views will lead to overhead when performing inplace updates with this backend\n",
            "  warnings.warn(\n",
            "/usr/local/lib/python3.10/dist-packages/ivy/compiler/compiler.py:93: FutureWarning: NaT.freq is deprecated and will be removed in a future version.\n",
            "  return _compile(\n",
            "/usr/local/lib/python3.10/dist-packages/ivy/compiler/compiler.py:93: FutureWarning: _AXIS_NUMBERS has been deprecated.\n",
            "  return _compile(\n",
            "/usr/local/lib/python3.10/dist-packages/ivy/compiler/compiler.py:93: FutureWarning: _AXIS_NAMES has been deprecated.\n",
            "  return _compile(\n",
            "/usr/local/lib/python3.10/dist-packages/ivy/compiler/compiler.py:93: FutureWarning: Index.asi8 is deprecated and will be removed in a future version.\n",
            "  return _compile(\n",
            "/usr/local/lib/python3.10/dist-packages/ivy/compiler/compiler.py:93: FutureWarning: is_monotonic is deprecated and will be removed in a future version. Use is_monotonic_increasing instead.\n",
            "  return _compile(\n",
            "/usr/local/lib/python3.10/dist-packages/ivy/compiler/compiler.py:93: FutureWarning: RangeIndex._start is deprecated and will be removed in a future version. Use RangeIndex.start instead\n",
            "  return _compile(\n",
            "/usr/local/lib/python3.10/dist-packages/ivy/compiler/compiler.py:93: FutureWarning: RangeIndex._stop is deprecated and will be removed in a future version. Use RangeIndex.stop instead\n",
            "  return _compile(\n",
            "/usr/local/lib/python3.10/dist-packages/ivy/compiler/compiler.py:93: FutureWarning: RangeIndex._step is deprecated and will be removed in a future version. Use RangeIndex.step instead\n",
            "  return _compile(\n"
          ]
        },
        {
          "output_type": "stream",
          "name": "stdout",
          "text": [
            "epoch: 0 loss:  ivy.array(1238.8036, dev=gpu:0)\n",
            "epoch: 10 loss:  ivy.array(42.610046, dev=gpu:0)\n",
            "epoch: 20 loss:  ivy.array(42.326317, dev=gpu:0)\n",
            "epoch: 30 loss:  ivy.array(42.048557, dev=gpu:0)\n",
            "epoch: 40 loss:  ivy.array(41.773983, dev=gpu:0)\n",
            "epoch: 50 loss:  ivy.array(41.502552, dev=gpu:0)\n",
            "epoch: 60 loss:  ivy.array(41.234234, dev=gpu:0)\n",
            "epoch: 70 loss:  ivy.array(40.968987, dev=gpu:0)\n",
            "epoch: 80 loss:  ivy.array(40.70679, dev=gpu:0)\n",
            "epoch: 90 loss:  ivy.array(40.447594, dev=gpu:0)\n",
            "epoch: 100 loss:  ivy.array(40.19137, dev=gpu:0)\n",
            "epoch: 110 loss:  ivy.array(39.938076, dev=gpu:0)\n",
            "epoch: 120 loss:  ivy.array(39.68769, dev=gpu:0)\n",
            "epoch: 130 loss:  ivy.array(39.440174, dev=gpu:0)\n",
            "epoch: 140 loss:  ivy.array(39.19549, dev=gpu:0)\n",
            "epoch: 150 loss:  ivy.array(38.953613, dev=gpu:0)\n",
            "epoch: 160 loss:  ivy.array(38.714516, dev=gpu:0)\n",
            "epoch: 170 loss:  ivy.array(38.478153, dev=gpu:0)\n",
            "epoch: 180 loss:  ivy.array(38.244495, dev=gpu:0)\n",
            "epoch: 190 loss:  ivy.array(38.013523, dev=gpu:0)\n"
          ]
        }
      ]
    },
    {
      "cell_type": "code",
      "source": [
        "x_new = ivy.array([23.0]).astype(ivy.float64)\n",
        "y_new = model(x_new)\n",
        "print('predict', y_new)\n",
        "# print('w: ', linear_layer.v.w, 'b: ', linear_layer.v.b)\n",
        "print(model.v)"
      ],
      "metadata": {
        "colab": {
          "base_uri": "https://localhost:8080/"
        },
        "id": "CJCttU7JEPUB",
        "outputId": "b49cd9fd-9746-45e6-d367-b4eef85da0d0"
      },
      "execution_count": 18,
      "outputs": [
        {
          "output_type": "stream",
          "name": "stdout",
          "text": [
            "predict tensor([-1.4502e+232], device='cuda:0', dtype=torch.float64,\n",
            "       grad_fn=<AddBackward0>)\n",
            "{\n",
            "    fc1: {\n",
            "        b: tensor([-1.9268e+229], device=cuda:0, dtype=torch.float64, \n",
            "           grad_fn=<SubBackward0>),\n",
            "        w: tensor([[-6.2967e+230]], device=cuda:0, dtype=torch.float64, \n",
            "           grad_fn=<SubBackward0>)\n",
            "    }\n",
            "}\n"
          ]
        }
      ]
    }
  ]
}