{
  "nbformat": 4,
  "nbformat_minor": 0,
  "metadata": {
    "colab": {
      "provenance": [],
      "machine_shape": "hm",
      "gpuType": "V100",
      "authorship_tag": "ABX9TyMLruL49lm1OQ2UgXINAbVX",
      "include_colab_link": true
    },
    "kernelspec": {
      "name": "python3",
      "display_name": "Python 3"
    },
    "language_info": {
      "name": "python"
    },
    "accelerator": "GPU"
  },
  "cells": [
    {
      "cell_type": "markdown",
      "metadata": {
        "id": "view-in-github",
        "colab_type": "text"
      },
      "source": [
        "<a href=\"https://colab.research.google.com/github/mpnsk/ivy_seminar/blob/main/ivy_complete_mnist.ipynb\" target=\"_parent\"><img src=\"https://colab.research.google.com/assets/colab-badge.svg\" alt=\"Open In Colab\"/></a>"
      ]
    },
    {
      "cell_type": "code",
      "execution_count": null,
      "metadata": {
        "id": "Z3UjSxxzSYm4"
      },
      "outputs": [],
      "source": [
        "!pip install ivy\n",
        "!pip install dm-haiku"
      ]
    },
    {
      "cell_type": "code",
      "source": [
        "import ivy"
      ],
      "metadata": {
        "id": "pt--jXAayGXq"
      },
      "execution_count": 12,
      "outputs": []
    },
    {
      "cell_type": "code",
      "source": [
        "\n",
        "my_backend = \"torch\"\n",
        "# my_backend = \"tensorflow\"\n",
        "# my_backend = \"jax\"\n",
        "\n",
        "doCompile = False\n",
        "\n",
        "if my_backend == \"jax\":\n",
        "  import jax\n",
        "  jax.config.update('jax_enable_x64', True)\n",
        "\n",
        "ivy.set_backend(my_backend)\n",
        "\n",
        "class Net(ivy.Module):\n",
        "    def __init__(self):\n",
        "        self.conv1 = ivy.Conv2D(1, 32, [3, 3], 1, \"VALID\")\n",
        "        self.conv2 = ivy.Conv2D(32, 64, [3, 3], 1, \"VALID\")\n",
        "        self.conv1_drop = ivy.Dropout(0.25)\n",
        "        self.conv2_drop = ivy.Dropout(0.5)\n",
        "        self.fc1 = ivy.Linear(9216, 128)\n",
        "        self.fc2 = ivy.Linear(128, 10)\n",
        "        super().__init__()\n",
        "\n",
        "    def _forward(self, x):\n",
        "        x = self.conv1(x)\n",
        "        x = ivy.relu(x)\n",
        "        x = self.conv2(x)\n",
        "        x = ivy.relu(x)\n",
        "        x = ivy.max_pool2d(x, 2, 2, 'VALID')\n",
        "        x = self.conv1_drop(x)\n",
        "        x = ivy.flatten(x, start_dim=1)\n",
        "        x = self.fc1(x)\n",
        "        x = ivy.relu(x)\n",
        "        x = self.conv2_drop(x)\n",
        "        x = self.fc2(x)\n",
        "        output = ivy.softmax(x)\n",
        "        return output\n",
        "\n",
        "\n",
        "model = Net()\n",
        "arg = ivy.random_normal(shape=(1,28,28,1))\n",
        "if doCompile:\n",
        "  print(\"starting compile\")\n",
        "  model = ivy.compile(model, to=my_backend, args=(arg,))\n",
        "print(\"done\")"
      ],
      "metadata": {
        "colab": {
          "base_uri": "https://localhost:8080/"
        },
        "id": "MkcTfkXhxt3R",
        "outputId": "dabab218-a358-4994-b3f1-70292e89dd96"
      },
      "execution_count": 28,
      "outputs": [
        {
          "output_type": "stream",
          "name": "stdout",
          "text": [
            "done\n"
          ]
        }
      ]
    },
    {
      "cell_type": "code",
      "source": [
        "print('loading mnist')\n",
        "from keras.datasets import mnist\n",
        "(train_X_np, train_y_np), (test_X, test_y) = mnist.load_data()\n",
        "\n",
        "limit = 6400\n",
        "batch_size = 64\n",
        "num_batches = limit // batch_size\n",
        "\n",
        "train_X_np = train_X_np[:limit, :, :]\n",
        "train_y_np = train_y_np[:limit]\n",
        "\n",
        "print(f'{train_X_np.shape=}')\n",
        "\n",
        "# my_x = ivy.empty((1, 28, 28, 1))\n",
        "# my_x[:, :, :, 0] = ivy.array(train_X[0])\n",
        "\n",
        "print('defined model')\n",
        "\n",
        "\n",
        "def loss_fn(v, x, y):\n",
        "    y_pred = model(x)\n",
        "    entropy = ivy.sparse_cross_entropy(y, y_pred)\n",
        "    aggregated_entropy = entropy.mean()\n",
        "    return aggregated_entropy\n",
        "\n",
        "\n",
        "# jax.numpy.set_printoptions(threshold=1000000)\n",
        "\n",
        "print('starting to batch')\n",
        "# turn training data into batches\n",
        "## convert to ivy\n",
        "train_X_ivy = ivy.array(train_X_np)\n",
        "train_y_ivy = ivy.array(train_y_np)\n",
        "\n",
        "# normalize grey scale to 0.0-1.0\n",
        "train_X_ivy = train_X_ivy / 255\n",
        "\n",
        "train_X_batches = [train_X_ivy[i*batch_size:(i+1)*batch_size] for i in range(num_batches)]\n",
        "train_y_batches = [train_y_ivy[i*batch_size:(i+1)*batch_size] for i in range(num_batches)]\n",
        "print('done')"
      ],
      "metadata": {
        "colab": {
          "base_uri": "https://localhost:8080/"
        },
        "id": "IkJoeZIQ63BF",
        "outputId": "aa72888d-0464-48c1-b191-8910381615bd"
      },
      "execution_count": 29,
      "outputs": [
        {
          "output_type": "stream",
          "name": "stdout",
          "text": [
            "loading mnist\n",
            "train_X_np.shape=(6400, 28, 28)\n",
            "defined model\n",
            "starting to batch\n",
            "done\n"
          ]
        }
      ]
    },
    {
      "cell_type": "code",
      "source": [
        "for idx in range(num_batches):\n",
        "    x = train_X_batches[idx]\n",
        "    x = ivy.expand_dims(x, axis=-1)\n",
        "    y = train_y_batches[idx]\n",
        "    loss, grads = ivy.execute_with_gradients(lambda v: loss_fn(v, x, y), model.v)\n",
        "    print(f'{idx=}, {loss=}')\n",
        "    if grads.all().cont_all_false():\n",
        "        print(\"ERROR!\")\n",
        "        print(f'{grads.conv1.w=}')\n",
        "        print(f'{grads.conv1.b=}')\n",
        "        print(f'{grads.conv2.w=}')\n",
        "        print(f'{grads.conv2.b=}')\n",
        "        print(f'{grads.fc1.w=}')\n",
        "        print(f'{grads.fc1.b=}')\n",
        "        print(f'{grads.fc2.w=}')\n",
        "        print(f'{grads.fc2.b=}')\n",
        "        break\n",
        "    model.v = model.v - grads * 0.005\n",
        "\n",
        "random_value = 127\n",
        "\n",
        "x = train_X_ivy[random_value]\n",
        "# expand hw to nhwc\n",
        "x = ivy.expand_dims(x, axis=0)\n",
        "x = ivy.expand_dims(x, axis=-1)\n",
        "prediction = model(x)\n",
        "print(f'{prediction=}')\n",
        "print(f'{ivy.argmax(prediction)=}')\n",
        "print(f'{train_y_ivy[random_value]=}')"
      ],
      "metadata": {
        "colab": {
          "base_uri": "https://localhost:8080/"
        },
        "id": "bm8LKSTXShKI",
        "outputId": "ad53961c-b6ed-4399-9de4-914370c159ca"
      },
      "execution_count": null,
      "outputs": [
        {
          "output_type": "stream",
          "name": "stdout",
          "text": [
            "idx=0, loss=ivy.array(2.7533603, dev=gpu:0)\n",
            "idx=1, loss=ivy.array(2.436123, dev=gpu:0)\n",
            "idx=2, loss=ivy.array(2.6664448, dev=gpu:0)\n",
            "idx=3, loss=ivy.array(2.2585895, dev=gpu:0)\n",
            "idx=4, loss=ivy.array(2.145646, dev=gpu:0)\n",
            "idx=5, loss=ivy.array(2.0307014, dev=gpu:0)\n",
            "idx=6, loss=ivy.array(2.1277814, dev=gpu:0)\n",
            "idx=7, loss=ivy.array(2.0769477, dev=gpu:0)\n",
            "idx=8, loss=ivy.array(1.9394872, dev=gpu:0)\n",
            "idx=9, loss=ivy.array(1.9906547, dev=gpu:0)\n",
            "idx=10, loss=ivy.array(1.9769748, dev=gpu:0)\n",
            "idx=11, loss=ivy.array(2.0795205, dev=gpu:0)\n",
            "idx=12, loss=ivy.array(1.7615812, dev=gpu:0)\n",
            "idx=13, loss=ivy.array(1.9672122, dev=gpu:0)\n",
            "idx=14, loss=ivy.array(1.9623533, dev=gpu:0)\n",
            "idx=15, loss=ivy.array(1.6534996, dev=gpu:0)\n",
            "idx=16, loss=ivy.array(2.0127206, dev=gpu:0)\n",
            "idx=17, loss=ivy.array(1.9439561, dev=gpu:0)\n",
            "idx=18, loss=ivy.array(1.7639469, dev=gpu:0)\n",
            "idx=19, loss=ivy.array(1.7422255, dev=gpu:0)\n",
            "idx=20, loss=ivy.array(1.8011327, dev=gpu:0)\n",
            "idx=21, loss=ivy.array(1.721169, dev=gpu:0)\n",
            "idx=22, loss=ivy.array(1.5932947, dev=gpu:0)\n",
            "idx=23, loss=ivy.array(1.6640416, dev=gpu:0)\n",
            "idx=24, loss=ivy.array(1.605787, dev=gpu:0)\n",
            "idx=25, loss=ivy.array(1.5171666, dev=gpu:0)\n",
            "Exception occured: \n"
          ]
        },
        {
          "output_type": "stream",
          "name": "stderr",
          "text": [
            "Exception ignored in: <function _xla_gc_callback at 0x7bba84c09360>\n",
            "Traceback (most recent call last):\n",
            "  File \"/usr/local/lib/python3.10/dist-packages/jax/_src/lib/__init__.py\", line 103, in _xla_gc_callback\n",
            "    def _xla_gc_callback(*args):\n",
            "KeyboardInterrupt: \n"
          ]
        },
        {
          "output_type": "stream",
          "name": "stdout",
          "text": [
            "idx=26, loss=ivy.array(1.4897201, dev=gpu:0)\n",
            "idx=27, loss=ivy.array(1.5122917, dev=gpu:0)\n",
            "idx=28, loss=ivy.array(1.5331728, dev=gpu:0)\n",
            "idx=29, loss=ivy.array(1.3514293, dev=gpu:0)\n"
          ]
        }
      ]
    }
  ]
}