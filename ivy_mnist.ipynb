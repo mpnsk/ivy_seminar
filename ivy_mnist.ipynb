{
  "nbformat": 4,
  "nbformat_minor": 0,
  "metadata": {
    "colab": {
      "provenance": [],
      "gpuType": "V100",
      "authorship_tag": "ABX9TyNpEcYaGdxhv5fp5+ZNSGDV",
      "include_colab_link": true
    },
    "kernelspec": {
      "name": "python3",
      "display_name": "Python 3"
    },
    "language_info": {
      "name": "python"
    },
    "accelerator": "GPU"
  },
  "cells": [
    {
      "cell_type": "markdown",
      "metadata": {
        "id": "view-in-github",
        "colab_type": "text"
      },
      "source": [
        "<a href=\"https://colab.research.google.com/github/mpnsk/ivy_seminar/blob/main/ivy_mnist.ipynb\" target=\"_parent\"><img src=\"https://colab.research.google.com/assets/colab-badge.svg\" alt=\"Open In Colab\"/></a>"
      ]
    },
    {
      "cell_type": "code",
      "execution_count": null,
      "metadata": {
        "id": "QVUIV-1G8AYw"
      },
      "outputs": [],
      "source": [
        "!pip install ivy"
      ]
    },
    {
      "cell_type": "code",
      "source": [
        "from keras.datasets import mnist\n",
        "(train_X, train_y), (test_X, test_y) = mnist.load_data()\n",
        "print('X_train: ' + str(train_X.shape))\n",
        "print('Y_train: ' + str(train_y.shape))\n",
        "print('X_test:  '  + str(test_X.shape))\n",
        "print('Y_test:  '  + str(test_y.shape))"
      ],
      "metadata": {
        "colab": {
          "base_uri": "https://localhost:8080/"
        },
        "id": "ImVolXlm9QnB",
        "outputId": "b0dd4638-e454-4abe-e8a5-a7c579a450dc"
      },
      "execution_count": 27,
      "outputs": [
        {
          "output_type": "stream",
          "name": "stdout",
          "text": [
            "X_train: (60000, 28, 28)\n",
            "Y_train: (60000,)\n",
            "X_test:  (10000, 28, 28)\n",
            "Y_test:  (10000,)\n"
          ]
        }
      ]
    },
    {
      "cell_type": "code",
      "source": [
        "train_X = train_X / 255.0"
      ],
      "metadata": {
        "id": "XgxlbUoaHsE3"
      },
      "execution_count": 28,
      "outputs": []
    },
    {
      "cell_type": "code",
      "source": [
        "train_X2 = ivy.empty((60000,28,28))\n",
        "for idx in range(train_X.shape[0]):\n",
        "  # print(f\"{train_X[idx]=}, {train_y[idx]=}\")\n",
        "  train_X2[idx] = ivy.array(train_X[idx])"
      ],
      "metadata": {
        "id": "UKbNZXdDGNJK"
      },
      "execution_count": 29,
      "outputs": []
    },
    {
      "cell_type": "code",
      "source": [
        "from matplotlib import pyplot\n",
        "for i in range(3):\n",
        "  pyplot.subplot(330 + 1 + i)\n",
        "  pyplot.imshow(train_X[i], cmap=pyplot.get_cmap('gray'))\n",
        "  pyplot.show()"
      ],
      "metadata": {
        "id": "eK292CMP9Xk6",
        "colab": {
          "base_uri": "https://localhost:8080/",
          "height": 482
        },
        "outputId": "31f7b336-bb0d-4487-9a2a-c53f6e0d7bf5"
      },
      "execution_count": 30,
      "outputs": [
        {
          "output_type": "display_data",
          "data": {
            "text/plain": [
              "<Figure size 640x480 with 1 Axes>"
            ],
            "image/png": "[encoded data removed]"
          },
          "metadata": {}
        },
        {
          "output_type": "display_data",
          "data": {
            "text/plain": [
              "<Figure size 640x480 with 1 Axes>"
            ],
            "image/png": "[encoded data removed]"
          },
          "metadata": {}
        },
        {
          "output_type": "display_data",
          "data": {
            "text/plain": [
              "<Figure size 640x480 with 1 Axes>"
            ],
            "image/png": "[encoded data removed]"
          },
          "metadata": {}
        }
      ]
    },
    {
      "cell_type": "code",
      "source": [
        "import ivy\n",
        "# ivy.set_torch_backend()\n",
        "# ivy.set_numpy_backend()\n",
        "class Net(ivy.Module):\n",
        "  def __init__(self):\n",
        "    self.conv1 = ivy.Conv2D(1, 32, [3,3], 1, \"VALID\")\n",
        "    self.conv2 = ivy.Conv2D(32, 64, [3,3], 1, \"VALID\")\n",
        "    self.conv1_drop = ivy.Dropout(0.25)\n",
        "    self.conv2_drop = ivy.Dropout(0.5)\n",
        "    self.fc1 = ivy.Linear(9216, 128)\n",
        "    self.fc2 = ivy.Linear(128,10)\n",
        "    super().__init__()\n",
        "\n",
        "  def _forward(self, x):\n",
        "    x = self.conv1(x)\n",
        "    x = ivy.relu(x)\n",
        "    x = self.conv2(x)\n",
        "    x = ivy.relu(x)\n",
        "    x = ivy.max_pool2d(x, [2,2], 2, 0)\n",
        "    x = self.conv1_drop(x)\n",
        "    x = ivy.flatten(x)\n",
        "    x = self.fc1(x)\n",
        "    x = ivy.relu(x)\n",
        "    x = self.conv2_drop(x)\n",
        "    x = self.fc2(x)\n",
        "    output = ivy.log_softmax(x)\n",
        "    return output\n",
        "\n",
        "model = Net()"
      ],
      "metadata": {
        "id": "HPNHHXtf_FRs"
      },
      "execution_count": 31,
      "outputs": []
    },
    {
      "cell_type": "code",
      "source": [
        "for idx in range(train_X.shape[0]):\n",
        "  print(f\"{type(train_X[idx])=}, {type(train_y[idx])=}\")"
      ],
      "metadata": {
        "id": "eL2maFAB99QA"
      },
      "execution_count": null,
      "outputs": []
    },
    {
      "cell_type": "code",
      "source": [
        "# import numpy as np\n",
        "# my_x = np.expand_dims(train_X[0], axis=0)\n",
        "my_x = ivy.empty((1,28,28,1))\n",
        "my_x[:, :, :, 0] = ivy.array(train_X[0])"
      ],
      "metadata": {
        "id": "Y6BTruqqLstu"
      },
      "execution_count": 10,
      "outputs": []
    },
    {
      "cell_type": "code",
      "source": [
        "my_x.shape"
      ],
      "metadata": {
        "colab": {
          "base_uri": "https://localhost:8080/"
        },
        "id": "FP4Fl4wo9ZSc",
        "outputId": "1bca89eb-717d-4388-b1ba-c12feb99ddfd"
      },
      "execution_count": 11,
      "outputs": [
        {
          "output_type": "execute_result",
          "data": {
            "text/plain": [
              "ivy.Shape(1, 28, 28, 1)"
            ]
          },
          "metadata": {},
          "execution_count": 11
        }
      ]
    },
    {
      "cell_type": "code",
      "source": [
        "my_y = train_y[0]\n",
        "my_y"
      ],
      "metadata": {
        "colab": {
          "base_uri": "https://localhost:8080/"
        },
        "id": "NN7LuZfjqB9d",
        "outputId": "b05cb232-9497-4c72-aab5-34086000af22"
      },
      "execution_count": 13,
      "outputs": [
        {
          "output_type": "execute_result",
          "data": {
            "text/plain": [
              "5"
            ]
          },
          "metadata": {},
          "execution_count": 13
        }
      ]
    },
    {
      "cell_type": "code",
      "source": [
        "model(ivy.array(my_x))"
      ],
      "metadata": {
        "id": "qkvkIMmaL6Aj"
      },
      "execution_count": null,
      "outputs": []
    },
    {
      "cell_type": "code",
      "source": [
        "my_x"
      ],
      "metadata": {
        "id": "UxvDdFxhsyub"
      },
      "execution_count": null,
      "outputs": []
    },
    {
      "cell_type": "code",
      "source": [
        "ivy.set_torch_backend()\n",
        "def loss_fn(v, x, y):\n",
        "  y_pred = model(x)\n",
        "  return ivy.cross_entropy(y, y_pred)\n",
        "\n",
        "x = my_x\n",
        "y = my_y\n",
        "x = ivy.array(x)\n",
        "y = ivy.array(x)\n",
        "\n",
        "loss, grads = ivy.execute_with_gradients(lambda v: loss_fn(v,x,y), model.v)\n",
        "loss, grads"
      ],
      "metadata": {
        "id": "kL6LgyetnRta"
      },
      "execution_count": null,
      "outputs": []
    }
  ]
}