{
  "nbformat": 4,
  "nbformat_minor": 0,
  "metadata": {
    "colab": {
      "provenance": [],
      "gpuType": "T4",
      "include_colab_link": true
    },
    "kernelspec": {
      "name": "python3",
      "display_name": "Python 3"
    },
    "language_info": {
      "name": "python"
    },
    "accelerator": "GPU"
  },
  "cells": [
    {
      "cell_type": "markdown",
      "metadata": {
        "id": "view-in-github",
        "colab_type": "text"
      },
      "source": [
        "<a href=\"https://colab.research.google.com/github/mpnsk/ivy_seminar/blob/ivy_tf/my_ivy_mnist.ipynb\" target=\"_parent\"><img src=\"https://colab.research.google.com/assets/colab-badge.svg\" alt=\"Open In Colab\"/></a>"
      ]
    },
    {
      "cell_type": "code",
      "execution_count": 1,
      "metadata": {
        "colab": {
          "base_uri": "https://localhost:8080/"
        },
        "id": "Z3UjSxxzSYm4",
        "outputId": "17be2d1a-c6e9-4d9d-a4d6-4a150ef85cdb"
      },
      "outputs": [
        {
          "output_type": "stream",
          "name": "stdout",
          "text": [
            "Collecting ivy\n",
            "  Downloading ivy-0.0.0.0.0-py3-none-any.whl (10.0 MB)\n",
            "\u001b[2K     \u001b[90m━━━━━━━━━━━━━━━━━━━━━━━━━━━━━━━━━━━━━━━━\u001b[0m \u001b[32m10.0/10.0 MB\u001b[0m \u001b[31m48.5 MB/s\u001b[0m eta \u001b[36m0:00:00\u001b[0m\n",
            "\u001b[?25hRequirement already satisfied: numpy in /usr/local/lib/python3.10/dist-packages (from ivy) (1.23.5)\n",
            "Collecting einops (from ivy)\n",
            "  Downloading einops-0.6.1-py3-none-any.whl (42 kB)\n",
            "\u001b[2K     \u001b[90m━━━━━━━━━━━━━━━━━━━━━━━━━━━━━━━━━━━━━━━━\u001b[0m \u001b[32m42.2/42.2 kB\u001b[0m \u001b[31m5.0 MB/s\u001b[0m eta \u001b[36m0:00:00\u001b[0m\n",
            "\u001b[?25hRequirement already satisfied: psutil in /usr/local/lib/python3.10/dist-packages (from ivy) (5.9.5)\n",
            "Requirement already satisfied: termcolor in /usr/local/lib/python3.10/dist-packages (from ivy) (2.3.0)\n",
            "Collecting colorama (from ivy)\n",
            "  Downloading colorama-0.4.6-py2.py3-none-any.whl (25 kB)\n",
            "Requirement already satisfied: packaging in /usr/local/lib/python3.10/dist-packages (from ivy) (23.1)\n",
            "Collecting nvidia-ml-py (from ivy)\n",
            "  Downloading nvidia_ml_py-12.535.77-py3-none-any.whl (36 kB)\n",
            "Collecting diskcache (from ivy)\n",
            "  Downloading diskcache-5.6.1-py3-none-any.whl (45 kB)\n",
            "\u001b[2K     \u001b[90m━━━━━━━━━━━━━━━━━━━━━━━━━━━━━━━━━━━━━━━━\u001b[0m \u001b[32m45.6/45.6 kB\u001b[0m \u001b[31m5.8 MB/s\u001b[0m eta \u001b[36m0:00:00\u001b[0m\n",
            "\u001b[?25hRequirement already satisfied: google-auth in /usr/local/lib/python3.10/dist-packages (from ivy) (2.17.3)\n",
            "Requirement already satisfied: requests in /usr/local/lib/python3.10/dist-packages (from ivy) (2.31.0)\n",
            "Requirement already satisfied: cachetools<6.0,>=2.0.0 in /usr/local/lib/python3.10/dist-packages (from google-auth->ivy) (5.3.1)\n",
            "Requirement already satisfied: pyasn1-modules>=0.2.1 in /usr/local/lib/python3.10/dist-packages (from google-auth->ivy) (0.3.0)\n",
            "Requirement already satisfied: six>=1.9.0 in /usr/local/lib/python3.10/dist-packages (from google-auth->ivy) (1.16.0)\n",
            "Requirement already satisfied: rsa<5,>=3.1.4 in /usr/local/lib/python3.10/dist-packages (from google-auth->ivy) (4.9)\n",
            "Requirement already satisfied: charset-normalizer<4,>=2 in /usr/local/lib/python3.10/dist-packages (from requests->ivy) (3.2.0)\n",
            "Requirement already satisfied: idna<4,>=2.5 in /usr/local/lib/python3.10/dist-packages (from requests->ivy) (3.4)\n",
            "Requirement already satisfied: urllib3<3,>=1.21.1 in /usr/local/lib/python3.10/dist-packages (from requests->ivy) (2.0.4)\n",
            "Requirement already satisfied: certifi>=2017.4.17 in /usr/local/lib/python3.10/dist-packages (from requests->ivy) (2023.7.22)\n",
            "Requirement already satisfied: pyasn1<0.6.0,>=0.4.6 in /usr/local/lib/python3.10/dist-packages (from pyasn1-modules>=0.2.1->google-auth->ivy) (0.5.0)\n",
            "Installing collected packages: nvidia-ml-py, einops, diskcache, colorama, ivy\n",
            "Successfully installed colorama-0.4.6 diskcache-5.6.1 einops-0.6.1 ivy-0.0.0.0.0 nvidia-ml-py-12.535.77\n"
          ]
        }
      ],
      "source": [
        "!pip install ivy\n"
      ]
    },
    {
      "cell_type": "code",
      "source": [
        "import ivy\n",
        "#my_backend = \"torch\"\n",
        "my_backend = \"tensorflow\"\n",
        "# my_backend = \"jax\"\n",
        "\n",
        "# ivy.set_default_device(\"cpu\")\n",
        "\n",
        "ivy.set_exception_trace_mode('full')\n",
        "\n",
        "doCompile = True\n",
        "\n",
        "ivy.set_backend(my_backend)\n",
        "# if my_backend == \"jax\":\n",
        "#   import jax\n",
        "#   jax.config.update('jax_enable_x64', True)\n",
        "\n",
        "\n",
        "# as of the pytorch mnist example https://github.com/pytorch/examples/blob/main/mnist/main.py\n",
        "class Net(ivy.Module):\n",
        "    def __init__(self):\n",
        "        self.conv1 = ivy.Conv2D(1, 32, [3, 3], 1, \"VALID\")\n",
        "        self.conv2 = ivy.Conv2D(32, 64, [3, 3], 1, \"VALID\")\n",
        "        self.conv1_drop = ivy.Dropout(0.25)\n",
        "        self.conv2_drop = ivy.Dropout(0.5)\n",
        "        self.fc1 = ivy.Linear(9216, 128)\n",
        "        self.fc2 = ivy.Linear(128, 10)\n",
        "        super().__init__()\n",
        "\n",
        "    def _forward(self, x):\n",
        "        x = self.conv1(x)\n",
        "        x = ivy.relu(x)\n",
        "        x = self.conv2(x)\n",
        "        x = ivy.relu(x)\n",
        "        x = ivy.max_pool2d(x, 2, 2, 'VALID')\n",
        "        x = self.conv1_drop(x)\n",
        "        x = ivy.flatten(x, start_dim=1)\n",
        "        x = self.fc1(x)\n",
        "        x = ivy.relu(x)\n",
        "        x = self.conv2_drop(x)\n",
        "        x = self.fc2(x)\n",
        "        x = ivy.softmax(x)\n",
        "        return x\n",
        "\n",
        "\n",
        "def loss_fn(v, x, y):\n",
        "    entropy = ivy.sparse_cross_entropy(y, model(x))\n",
        "    entropy = entropy.mean()\n",
        "    return entropy\n",
        "\n",
        "\n",
        "if doCompile:\n",
        "  print(\"starting compilation\")\n",
        "  model = ivy.compile(Net(), to=my_backend, args=(ivy.random_normal(shape=(60,28,28,1)),))\n",
        "else:\n",
        "  model = Net()\n",
        "print(\"done\")"
      ],
      "metadata": {
        "colab": {
          "base_uri": "https://localhost:8080/"
        },
        "id": "MkcTfkXhxt3R",
        "outputId": "77adadd4-17e4-499d-df7a-8b36a3da1e26"
      },
      "execution_count": 47,
      "outputs": [
        {
          "output_type": "stream",
          "name": "stdout",
          "text": [
            "starting compilation\n"
          ]
        },
        {
          "output_type": "stream",
          "name": "stderr",
          "text": [
            "/usr/local/lib/python3.10/dist-packages/ivy/func_wrapper.py:242: UserWarning: Creating many views will lead to overhead when performing inplace updates with this backend\n",
            "  warnings.warn(\n"
          ]
        },
        {
          "output_type": "stream",
          "name": "stdout",
          "text": [
            "done\n"
          ]
        },
        {
          "output_type": "stream",
          "name": "stderr",
          "text": [
            "/usr/local/lib/python3.10/dist-packages/ivy/func_wrapper.py:242: UserWarning: Creating many views will lead to overhead when performing inplace updates with this backend\n",
            "  warnings.warn(\n"
          ]
        }
      ]
    },
    {
      "cell_type": "code",
      "source": [
        "print('loading mnist')\n",
        "from keras.datasets import mnist\n",
        "(train_X_np, train_y_np), (test_X, test_y) = mnist.load_data()\n",
        "del test_X # I'm not there yet, lol\n",
        "del test_y\n",
        "\n",
        "# no need to look at all 60,000 samples as of now\n",
        "limit = 6400\n",
        "train_X_np = train_X_np[:limit, :, :]\n",
        "train_y_np = train_y_np[:limit]\n",
        "\n",
        "# batch parameters\n",
        "batch_size = 64\n",
        "num_batches = limit // batch_size\n",
        "\n",
        "print('starting to batch')\n",
        "## convert to ivy\n",
        "print(f\"{type(train_X_np)=}\")\n",
        "train_X_ivy = ivy.array(train_X_np)\n",
        "print(f\"{type(train_X_ivy)=}\")\n",
        "print(f\"{type(train_X_ivy.data)=}\")\n",
        "\n",
        "train_y_ivy = ivy.array(train_y_np)\n",
        "\n",
        "# normalize from grey scale to 0.0-1.0\n",
        "train_X_ivy = train_X_ivy / 255\n",
        "\n",
        "# expand data from nhw to nhwc\n",
        "train_X_ivy = ivy.expand_dims(train_X_ivy, axis=-1)\n",
        "\n",
        "# turn big array into list of batched arrays\n",
        "train_X_batches = [train_X_ivy[i*batch_size:(i+1)*batch_size] for i in range(num_batches)]\n",
        "train_y_batches = [train_y_ivy[i*batch_size:(i+1)*batch_size] for i in range(num_batches)]\n",
        "print('done')"
      ],
      "metadata": {
        "colab": {
          "base_uri": "https://localhost:8080/"
        },
        "id": "IkJoeZIQ63BF",
        "outputId": "28ce4cdb-aab1-4dc8-8bbe-3a1010fbdc6c"
      },
      "execution_count": 48,
      "outputs": [
        {
          "output_type": "stream",
          "name": "stdout",
          "text": [
            "loading mnist\n",
            "starting to batch\n",
            "type(train_X_np)=<class 'numpy.ndarray'>\n",
            "type(train_X_ivy)=<class 'ivy.data_classes.array.array.Array'>\n",
            "type(train_X_ivy.data)=<class 'tensorflow.python.framework.ops.EagerTensor'>\n",
            "done\n"
          ]
        }
      ]
    },
    {
      "cell_type": "code",
      "source": [
        "for idx in range(num_batches):\n",
        "    loss, grads = ivy.execute_with_gradients(lambda v: loss_fn(v, train_X_batches[idx], train_y_batches[idx]), model.v)\n",
        "    print(f'{idx=}, {loss=}')\n",
        "    # print(f\"{grads=}\")\n",
        "    #if grads.all().cont_all_false():\n",
        "        #print(\"ERROR!\")\n",
        "        # print(f'{grads.conv1.w=}')\n",
        "        # print(f'{grads.conv1.b=}')\n",
        "        # print(f'{grads.conv2.w=}')\n",
        "        # print(f'{grads.conv2.b=}')\n",
        "        # print(f'{grads.fc1.w=}')\n",
        "    # print(f'{grads.fc1.b=}')\n",
        "        # print(f'{grads.fc2.w=}')\n",
        "    # print(f'{grads.fc2.b=}')\n",
        "        # break\n",
        "    ivy.multiply(grads, 0.005, out=grads)\n",
        "    ivy.subtract(model.v, grads, out=model.v)\n",
        "    # model.v = ivy.subtract(model.v, ivy.multiply(grads, 0.0005))\n",
        "\n"
      ],
      "metadata": {
        "id": "bm8LKSTXShKI",
        "colab": {
          "base_uri": "https://localhost:8080/"
        },
        "outputId": "ac5a0799-e07d-42b3-c393-7ffaac97b9e1"
      },
      "execution_count": 49,
      "outputs": [
        {
          "output_type": "stream",
          "name": "stdout",
          "text": [
            "idx=0, loss=ivy.array(3.0529225, dev=gpu:0)\n",
            "idx=1, loss=ivy.array(2.536707, dev=gpu:0)\n",
            "idx=2, loss=ivy.array(2.3721871, dev=gpu:0)\n",
            "idx=3, loss=ivy.array(2.2881842, dev=gpu:0)\n",
            "idx=4, loss=ivy.array(2.238809, dev=gpu:0)\n",
            "idx=5, loss=ivy.array(2.342834, dev=gpu:0)\n",
            "idx=6, loss=ivy.array(2.0969534, dev=gpu:0)\n",
            "idx=7, loss=ivy.array(2.0550587, dev=gpu:0)\n",
            "idx=8, loss=ivy.array(1.9782498, dev=gpu:0)\n",
            "idx=9, loss=ivy.array(2.046133, dev=gpu:0)\n",
            "idx=10, loss=ivy.array(1.9427785, dev=gpu:0)\n",
            "idx=11, loss=ivy.array(2.1783404, dev=gpu:0)\n",
            "idx=12, loss=ivy.array(1.9155841, dev=gpu:0)\n",
            "idx=13, loss=ivy.array(2.0013094, dev=gpu:0)\n",
            "idx=14, loss=ivy.array(1.8603418, dev=gpu:0)\n",
            "idx=15, loss=ivy.array(1.7736402, dev=gpu:0)\n",
            "idx=16, loss=ivy.array(1.8989613, dev=gpu:0)\n",
            "idx=17, loss=ivy.array(1.8881905, dev=gpu:0)\n",
            "idx=18, loss=ivy.array(1.7709718, dev=gpu:0)\n",
            "idx=19, loss=ivy.array(1.8226056, dev=gpu:0)\n",
            "idx=20, loss=ivy.array(1.945344, dev=gpu:0)\n",
            "idx=21, loss=ivy.array(1.7796757, dev=gpu:0)\n",
            "idx=22, loss=ivy.array(1.5590613, dev=gpu:0)\n",
            "idx=23, loss=ivy.array(1.6162016, dev=gpu:0)\n",
            "idx=24, loss=ivy.array(1.6526515, dev=gpu:0)\n",
            "idx=25, loss=ivy.array(1.5972731, dev=gpu:0)\n",
            "idx=26, loss=ivy.array(1.3267515, dev=gpu:0)\n",
            "idx=27, loss=ivy.array(1.5117385, dev=gpu:0)\n",
            "idx=28, loss=ivy.array(1.3445439, dev=gpu:0)\n",
            "idx=29, loss=ivy.array(1.3490434, dev=gpu:0)\n",
            "idx=30, loss=ivy.array(1.6440386, dev=gpu:0)\n",
            "idx=31, loss=ivy.array(1.4241552, dev=gpu:0)\n",
            "idx=32, loss=ivy.array(1.4856226, dev=gpu:0)\n",
            "idx=33, loss=ivy.array(1.3806871, dev=gpu:0)\n",
            "idx=34, loss=ivy.array(1.3475428, dev=gpu:0)\n",
            "idx=35, loss=ivy.array(1.6522019, dev=gpu:0)\n",
            "idx=36, loss=ivy.array(1.2004613, dev=gpu:0)\n",
            "idx=37, loss=ivy.array(1.2420074, dev=gpu:0)\n",
            "idx=38, loss=ivy.array(1.3296914, dev=gpu:0)\n",
            "idx=39, loss=ivy.array(1.3914617, dev=gpu:0)\n",
            "idx=40, loss=ivy.array(1.2304808, dev=gpu:0)\n",
            "idx=41, loss=ivy.array(1.3051169, dev=gpu:0)\n",
            "idx=42, loss=ivy.array(1.2881856, dev=gpu:0)\n",
            "idx=43, loss=ivy.array(1.308083, dev=gpu:0)\n",
            "idx=44, loss=ivy.array(1.2710552, dev=gpu:0)\n",
            "idx=45, loss=ivy.array(1.3325424, dev=gpu:0)\n",
            "idx=46, loss=ivy.array(1.1444749, dev=gpu:0)\n",
            "idx=47, loss=ivy.array(1.2963402, dev=gpu:0)\n",
            "idx=48, loss=ivy.array(1.1849018, dev=gpu:0)\n",
            "idx=49, loss=ivy.array(1.2396951, dev=gpu:0)\n",
            "idx=50, loss=ivy.array(1.2181854, dev=gpu:0)\n",
            "idx=51, loss=ivy.array(1.2561144, dev=gpu:0)\n",
            "idx=52, loss=ivy.array(1.2320867, dev=gpu:0)\n",
            "idx=53, loss=ivy.array(1.0423554, dev=gpu:0)\n",
            "idx=54, loss=ivy.array(1.3904657, dev=gpu:0)\n",
            "idx=55, loss=ivy.array(1.0635612, dev=gpu:0)\n",
            "idx=56, loss=ivy.array(1.0747316, dev=gpu:0)\n",
            "idx=57, loss=ivy.array(1.2937118, dev=gpu:0)\n",
            "idx=58, loss=ivy.array(1.1751132, dev=gpu:0)\n",
            "idx=59, loss=ivy.array(1.0708954, dev=gpu:0)\n",
            "idx=60, loss=ivy.array(1.0784569, dev=gpu:0)\n",
            "idx=61, loss=ivy.array(1.0457826, dev=gpu:0)\n",
            "idx=62, loss=ivy.array(1.1922693, dev=gpu:0)\n",
            "idx=63, loss=ivy.array(1.1304059, dev=gpu:0)\n",
            "idx=64, loss=ivy.array(1.1478934, dev=gpu:0)\n",
            "idx=65, loss=ivy.array(1.0810441, dev=gpu:0)\n",
            "idx=66, loss=ivy.array(1.0402002, dev=gpu:0)\n",
            "idx=67, loss=ivy.array(1.0544991, dev=gpu:0)\n",
            "idx=68, loss=ivy.array(1.0871246, dev=gpu:0)\n",
            "idx=69, loss=ivy.array(1.2413168, dev=gpu:0)\n",
            "idx=70, loss=ivy.array(0.9877411, dev=gpu:0)\n",
            "idx=71, loss=ivy.array(0.8999609, dev=gpu:0)\n",
            "idx=72, loss=ivy.array(1.0129654, dev=gpu:0)\n",
            "idx=73, loss=ivy.array(1.0758939, dev=gpu:0)\n",
            "idx=74, loss=ivy.array(1.1513801, dev=gpu:0)\n",
            "idx=75, loss=ivy.array(1.1429522, dev=gpu:0)\n",
            "idx=76, loss=ivy.array(1.0389522, dev=gpu:0)\n",
            "idx=77, loss=ivy.array(1.0883708, dev=gpu:0)\n",
            "idx=78, loss=ivy.array(0.988104, dev=gpu:0)\n",
            "idx=79, loss=ivy.array(1.0903332, dev=gpu:0)\n",
            "idx=80, loss=ivy.array(1.1564131, dev=gpu:0)\n",
            "idx=81, loss=ivy.array(0.9133978, dev=gpu:0)\n",
            "idx=82, loss=ivy.array(1.1417682, dev=gpu:0)\n",
            "idx=83, loss=ivy.array(1.0770792, dev=gpu:0)\n",
            "idx=84, loss=ivy.array(0.99038017, dev=gpu:0)\n",
            "idx=85, loss=ivy.array(0.7832668, dev=gpu:0)\n",
            "idx=86, loss=ivy.array(0.9526595, dev=gpu:0)\n",
            "idx=87, loss=ivy.array(0.75417733, dev=gpu:0)\n",
            "idx=88, loss=ivy.array(0.9878886, dev=gpu:0)\n",
            "idx=89, loss=ivy.array(0.9798741, dev=gpu:0)\n",
            "idx=90, loss=ivy.array(0.96160984, dev=gpu:0)\n",
            "idx=91, loss=ivy.array(1.0299993, dev=gpu:0)\n",
            "idx=92, loss=ivy.array(0.85059124, dev=gpu:0)\n",
            "idx=93, loss=ivy.array(0.9312433, dev=gpu:0)\n",
            "idx=94, loss=ivy.array(0.6998098, dev=gpu:0)\n",
            "idx=95, loss=ivy.array(0.7054216, dev=gpu:0)\n",
            "idx=96, loss=ivy.array(0.8954897, dev=gpu:0)\n",
            "idx=97, loss=ivy.array(0.86803174, dev=gpu:0)\n",
            "idx=98, loss=ivy.array(0.9905596, dev=gpu:0)\n",
            "idx=99, loss=ivy.array(0.89463806, dev=gpu:0)\n"
          ]
        }
      ]
    },
    {
      "cell_type": "code",
      "source": [
        "random_index = 8\n",
        "\n",
        "x = train_X_ivy[random_index]\n",
        "# expand hwc to nhwc\n",
        "x = ivy.expand_dims(x, axis=0)\n",
        "prediction = model(x)\n",
        "print(f'{prediction=}')\n",
        "print(f'{ivy.argmax(prediction)=}')\n",
        "print(f'{train_y_ivy[random_index]=}')"
      ],
      "metadata": {
        "colab": {
          "base_uri": "https://localhost:8080/"
        },
        "id": "bL23x8HB3zvh",
        "outputId": "4e98c63b-464e-4879-da84-0e9934439b65"
      },
      "execution_count": 14,
      "outputs": [
        {
          "output_type": "stream",
          "name": "stdout",
          "text": [
            "prediction=<tf.Tensor: shape=(1, 10), dtype=float32, numpy=\n",
            "array([[0.01893167, 0.51111877, 0.07456468, 0.0273266 , 0.03192645,\n",
            "        0.05009321, 0.06858373, 0.14836104, 0.03037999, 0.03871388]],\n",
            "      dtype=float32)>\n",
            "ivy.argmax(prediction)=ivy.array(1, dev=gpu:0)\n",
            "train_y_ivy[random_index]=ivy.array(1, dev=gpu:0)\n"
          ]
        }
      ]
    }
  ]
}