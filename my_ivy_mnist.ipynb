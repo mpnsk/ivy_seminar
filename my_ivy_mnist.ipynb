{
  "nbformat": 4,
  "nbformat_minor": 0,
  "metadata": {
    "colab": {
      "provenance": [],
      "gpuType": "V100",
      "include_colab_link": true
    },
    "kernelspec": {
      "name": "python3",
      "display_name": "Python 3"
    },
    "language_info": {
      "name": "python"
    },
    "accelerator": "GPU"
  },
  "cells": [
    {
      "cell_type": "markdown",
      "metadata": {
        "id": "view-in-github",
        "colab_type": "text"
      },
      "source": [
        "<a href=\"https://colab.research.google.com/github/mpnsk/ivy_seminar/blob/main/my_ivy_mnist.ipynb\" target=\"_parent\"><img src=\"https://colab.research.google.com/assets/colab-badge.svg\" alt=\"Open In Colab\"/></a>"
      ]
    },
    {
      "cell_type": "code",
      "execution_count": 5,
      "metadata": {
        "colab": {
          "base_uri": "https://localhost:8080/"
        },
        "id": "Z3UjSxxzSYm4",
        "outputId": "44627e1b-1433-4b75-8a0d-b8c8b771a9c2"
      },
      "outputs": [
        {
          "output_type": "stream",
          "name": "stdout",
          "text": [
            "Requirement already satisfied: ivy in /usr/local/lib/python3.10/dist-packages (0.0.0.0.0)\n",
            "Requirement already satisfied: numpy in /usr/local/lib/python3.10/dist-packages (from ivy) (1.23.5)\n",
            "Requirement already satisfied: einops in /usr/local/lib/python3.10/dist-packages (from ivy) (0.6.1)\n",
            "Requirement already satisfied: psutil in /usr/local/lib/python3.10/dist-packages (from ivy) (5.9.5)\n",
            "Requirement already satisfied: termcolor in /usr/local/lib/python3.10/dist-packages (from ivy) (2.3.0)\n",
            "Requirement already satisfied: colorama in /usr/local/lib/python3.10/dist-packages (from ivy) (0.4.6)\n",
            "Requirement already satisfied: packaging in /usr/local/lib/python3.10/dist-packages (from ivy) (23.1)\n",
            "Requirement already satisfied: nvidia-ml-py in /usr/local/lib/python3.10/dist-packages (from ivy) (12.535.77)\n",
            "Requirement already satisfied: diskcache in /usr/local/lib/python3.10/dist-packages (from ivy) (5.6.1)\n",
            "Requirement already satisfied: google-auth in /usr/local/lib/python3.10/dist-packages (from ivy) (2.17.3)\n",
            "Requirement already satisfied: requests in /usr/local/lib/python3.10/dist-packages (from ivy) (2.31.0)\n",
            "Requirement already satisfied: cachetools<6.0,>=2.0.0 in /usr/local/lib/python3.10/dist-packages (from google-auth->ivy) (5.3.1)\n",
            "Requirement already satisfied: pyasn1-modules>=0.2.1 in /usr/local/lib/python3.10/dist-packages (from google-auth->ivy) (0.3.0)\n",
            "Requirement already satisfied: six>=1.9.0 in /usr/local/lib/python3.10/dist-packages (from google-auth->ivy) (1.16.0)\n",
            "Requirement already satisfied: rsa<5,>=3.1.4 in /usr/local/lib/python3.10/dist-packages (from google-auth->ivy) (4.9)\n",
            "Requirement already satisfied: charset-normalizer<4,>=2 in /usr/local/lib/python3.10/dist-packages (from requests->ivy) (3.2.0)\n",
            "Requirement already satisfied: idna<4,>=2.5 in /usr/local/lib/python3.10/dist-packages (from requests->ivy) (3.4)\n",
            "Requirement already satisfied: urllib3<3,>=1.21.1 in /usr/local/lib/python3.10/dist-packages (from requests->ivy) (1.26.16)\n",
            "Requirement already satisfied: certifi>=2017.4.17 in /usr/local/lib/python3.10/dist-packages (from requests->ivy) (2023.7.22)\n",
            "Requirement already satisfied: pyasn1<0.6.0,>=0.4.6 in /usr/local/lib/python3.10/dist-packages (from pyasn1-modules>=0.2.1->google-auth->ivy) (0.5.0)\n",
            "Requirement already satisfied: dm-haiku in /usr/local/lib/python3.10/dist-packages (0.0.10)\n",
            "Requirement already satisfied: absl-py>=0.7.1 in /usr/local/lib/python3.10/dist-packages (from dm-haiku) (1.4.0)\n",
            "Requirement already satisfied: jmp>=0.0.2 in /usr/local/lib/python3.10/dist-packages (from dm-haiku) (0.0.4)\n",
            "Requirement already satisfied: numpy>=1.18.0 in /usr/local/lib/python3.10/dist-packages (from dm-haiku) (1.23.5)\n",
            "Requirement already satisfied: tabulate>=0.8.9 in /usr/local/lib/python3.10/dist-packages (from dm-haiku) (0.9.0)\n"
          ]
        }
      ],
      "source": [
        "!pip install ivy\n",
        "!pip install dm-haiku"
      ]
    },
    {
      "cell_type": "code",
      "source": [
        "import ivy\n",
        "# my_backend = \"torch\"\n",
        "my_backend = \"tensorflow\"\n",
        "# my_backend = \"jax\"\n",
        "\n",
        "# ivy.set_default_device(\"cpu\")\n",
        "\n",
        "ivy.set_exception_trace_mode('full')\n",
        "\n",
        "doCompile = True\n",
        "\n",
        "ivy.set_backend(my_backend)\n",
        "if my_backend == \"jax\":\n",
        "  import jax\n",
        "  jax.config.update('jax_enable_x64', True)\n",
        "\n",
        "\n",
        "# as of the pytorch mnist example https://github.com/pytorch/examples/blob/main/mnist/main.py\n",
        "class Net(ivy.Module):\n",
        "    def __init__(self):\n",
        "        self.conv1 = ivy.Conv2D(1, 32, [3, 3], 1, \"VALID\")\n",
        "        self.conv2 = ivy.Conv2D(32, 64, [3, 3], 1, \"VALID\")\n",
        "        self.conv1_drop = ivy.Dropout(0.25)\n",
        "        self.conv2_drop = ivy.Dropout(0.5)\n",
        "        self.fc1 = ivy.Linear(9216, 128)\n",
        "        self.fc2 = ivy.Linear(128, 10)\n",
        "        super().__init__()\n",
        "\n",
        "    def _forward(self, x):\n",
        "        x = self.conv1(x)\n",
        "        x = ivy.relu(x)\n",
        "        x = self.conv2(x)\n",
        "        x = ivy.relu(x)\n",
        "        x = ivy.max_pool2d(x, 2, 2, 'VALID')\n",
        "        x = self.conv1_drop(x)\n",
        "        x = ivy.flatten(x, start_dim=1)\n",
        "        x = self.fc1(x)\n",
        "        x = ivy.relu(x)\n",
        "        x = self.conv2_drop(x)\n",
        "        x = self.fc2(x)\n",
        "        x = ivy.softmax(x)\n",
        "        return x\n",
        "\n",
        "\n",
        "def loss_fn(v, x, y):\n",
        "    entropy = ivy.sparse_cross_entropy(y, model(x))\n",
        "    entropy = entropy.mean()\n",
        "    return entropy\n",
        "\n",
        "\n",
        "if doCompile:\n",
        "  print(\"starting compilation\")\n",
        "  model = ivy.compile(Net(), to=my_backend, args=(ivy.random_normal(shape=(60,28,28,1)),))\n",
        "else:\n",
        "  model = Net()\n",
        "print(\"done\")"
      ],
      "metadata": {
        "colab": {
          "base_uri": "https://localhost:8080/"
        },
        "id": "MkcTfkXhxt3R",
        "outputId": "41755cd2-14d9-449b-aa8c-8378696723cf"
      },
      "execution_count": 9,
      "outputs": [
        {
          "output_type": "stream",
          "name": "stdout",
          "text": [
            "starting compilation\n"
          ]
        },
        {
          "output_type": "stream",
          "name": "stderr",
          "text": [
            "/usr/local/lib/python3.10/dist-packages/ivy/func_wrapper.py:242: UserWarning: Creating many views will lead to overhead when performing inplace updates with this backend\n",
            "  warnings.warn(\n"
          ]
        },
        {
          "output_type": "stream",
          "name": "stdout",
          "text": [
            "done\n"
          ]
        },
        {
          "output_type": "stream",
          "name": "stderr",
          "text": [
            "/usr/local/lib/python3.10/dist-packages/ivy/func_wrapper.py:242: UserWarning: Creating many views will lead to overhead when performing inplace updates with this backend\n",
            "  warnings.warn(\n"
          ]
        }
      ]
    },
    {
      "cell_type": "code",
      "source": [
        "print('loading mnist')\n",
        "from keras.datasets import mnist\n",
        "(train_X_np, train_y_np), (test_X, test_y) = mnist.load_data()\n",
        "del test_X # I'm not there yet, lol\n",
        "del test_y\n",
        "\n",
        "# no need to look at all 60,000 samples as of now\n",
        "limit = 6400\n",
        "train_X_np = train_X_np[:limit, :, :]\n",
        "train_y_np = train_y_np[:limit]\n",
        "\n",
        "# batch parameters\n",
        "batch_size = 64\n",
        "num_batches = limit // batch_size\n",
        "\n",
        "print('starting to batch')\n",
        "## convert to ivy\n",
        "train_X_ivy = ivy.array(train_X_np)\n",
        "train_y_ivy = ivy.array(train_y_np)\n",
        "\n",
        "# normalize from grey scale to 0.0-1.0\n",
        "train_X_ivy = train_X_ivy / 255\n",
        "\n",
        "# expand data from nhw to nhwc\n",
        "train_X_ivy = ivy.expand_dims(train_X_ivy, axis=-1)\n",
        "\n",
        "# turn big array into list of batched arrays\n",
        "train_X_batches = [train_X_ivy[i*batch_size:(i+1)*batch_size] for i in range(num_batches)]\n",
        "train_y_batches = [train_y_ivy[i*batch_size:(i+1)*batch_size] for i in range(num_batches)]\n",
        "print('done')"
      ],
      "metadata": {
        "colab": {
          "base_uri": "https://localhost:8080/"
        },
        "id": "IkJoeZIQ63BF",
        "outputId": "06df51d1-8ef8-4e48-aaa2-8a2505667ee6"
      },
      "execution_count": 10,
      "outputs": [
        {
          "output_type": "stream",
          "name": "stdout",
          "text": [
            "loading mnist\n",
            "starting to batch\n",
            "done\n"
          ]
        }
      ]
    },
    {
      "cell_type": "code",
      "source": [
        "for idx in range(num_batches):\n",
        "    loss, grads = ivy.execute_with_gradients(lambda v: loss_fn(v, train_X_batches[idx], train_y_batches[idx]), model.v)\n",
        "    print(f'{idx=}, {loss=}')\n",
        "    # print(f\"{grads=}\")\n",
        "    if grads.all().cont_all_false():\n",
        "        print(\"ERROR!\")\n",
        "        # print(f'{grads.conv1.w=}')\n",
        "        # print(f'{grads.conv1.b=}')\n",
        "        # print(f'{grads.conv2.w=}')\n",
        "        # print(f'{grads.conv2.b=}')\n",
        "        # print(f'{grads.fc1.w=}')\n",
        "        # print(f'{grads.fc1.b=}')\n",
        "        # print(f'{grads.fc2.w=}')\n",
        "        # print(f'{grads.fc2.b=}')\n",
        "        # break\n",
        "    ivy.multiply(grads, 0.005, out=grads)\n",
        "    ivy.subtract(model.v, grads, out=model.v)\n",
        "    # model.v = ivy.subtract(model.v, ivy.multiply(grads, 0.0005))\n",
        "\n"
      ],
      "metadata": {
        "colab": {
          "base_uri": "https://localhost:8080/"
        },
        "id": "bm8LKSTXShKI",
        "outputId": "a01dd311-8382-48d0-bc4a-053696679ff2"
      },
      "execution_count": 12,
      "outputs": [
        {
          "output_type": "stream",
          "name": "stdout",
          "text": [
            "idx=0, loss=ivy.array(2.030846, dev=gpu:0)\n",
            "idx=1, loss=ivy.array(1.8161466, dev=gpu:0)\n",
            "idx=2, loss=ivy.array(2.1197653, dev=gpu:0)\n",
            "idx=3, loss=ivy.array(1.8729104, dev=gpu:0)\n",
            "idx=4, loss=ivy.array(1.9146729, dev=gpu:0)\n",
            "idx=5, loss=ivy.array(1.8399253, dev=gpu:0)\n",
            "idx=6, loss=ivy.array(1.8709695, dev=gpu:0)\n",
            "idx=7, loss=ivy.array(1.8821741, dev=gpu:0)\n",
            "idx=8, loss=ivy.array(1.9728528, dev=gpu:0)\n",
            "idx=9, loss=ivy.array(1.9438952, dev=gpu:0)\n",
            "idx=10, loss=ivy.array(1.9221411, dev=gpu:0)\n",
            "idx=11, loss=ivy.array(1.9295938, dev=gpu:0)\n",
            "idx=12, loss=ivy.array(1.8199766, dev=gpu:0)\n",
            "idx=13, loss=ivy.array(1.855701, dev=gpu:0)\n",
            "idx=14, loss=ivy.array(1.7394519, dev=gpu:0)\n",
            "idx=15, loss=ivy.array(1.8461134, dev=gpu:0)\n",
            "idx=16, loss=ivy.array(1.7554361, dev=gpu:0)\n",
            "idx=17, loss=ivy.array(1.8341734, dev=gpu:0)\n",
            "idx=18, loss=ivy.array(1.5915816, dev=gpu:0)\n",
            "idx=19, loss=ivy.array(1.6793753, dev=gpu:0)\n",
            "idx=20, loss=ivy.array(1.7077274, dev=gpu:0)\n",
            "idx=21, loss=ivy.array(1.7223623, dev=gpu:0)\n",
            "idx=22, loss=ivy.array(1.5339794, dev=gpu:0)\n",
            "idx=23, loss=ivy.array(1.6094124, dev=gpu:0)\n",
            "idx=24, loss=ivy.array(1.7867833, dev=gpu:0)\n",
            "idx=25, loss=ivy.array(1.3953519, dev=gpu:0)\n",
            "idx=26, loss=ivy.array(1.3378019, dev=gpu:0)\n",
            "idx=27, loss=ivy.array(1.5978391, dev=gpu:0)\n",
            "idx=28, loss=ivy.array(1.6079801, dev=gpu:0)\n",
            "idx=29, loss=ivy.array(1.143923, dev=gpu:0)\n",
            "idx=30, loss=ivy.array(1.5240381, dev=gpu:0)\n",
            "idx=31, loss=ivy.array(1.4448779, dev=gpu:0)\n",
            "idx=32, loss=ivy.array(1.4235504, dev=gpu:0)\n",
            "idx=33, loss=ivy.array(1.3433282, dev=gpu:0)\n",
            "idx=34, loss=ivy.array(1.3264375, dev=gpu:0)\n",
            "idx=35, loss=ivy.array(1.3230604, dev=gpu:0)\n",
            "idx=36, loss=ivy.array(1.1545815, dev=gpu:0)\n",
            "idx=37, loss=ivy.array(1.4137926, dev=gpu:0)\n",
            "idx=38, loss=ivy.array(1.4231296, dev=gpu:0)\n",
            "idx=39, loss=ivy.array(1.3196352, dev=gpu:0)\n",
            "idx=40, loss=ivy.array(1.2922091, dev=gpu:0)\n",
            "idx=41, loss=ivy.array(1.3704596, dev=gpu:0)\n",
            "idx=42, loss=ivy.array(1.2093711, dev=gpu:0)\n",
            "idx=43, loss=ivy.array(1.2576933, dev=gpu:0)\n",
            "idx=44, loss=ivy.array(1.0714169, dev=gpu:0)\n",
            "idx=45, loss=ivy.array(1.1651871, dev=gpu:0)\n",
            "idx=46, loss=ivy.array(1.3025181, dev=gpu:0)\n",
            "idx=47, loss=ivy.array(1.3533075, dev=gpu:0)\n",
            "idx=48, loss=ivy.array(1.2588062, dev=gpu:0)\n",
            "idx=49, loss=ivy.array(1.0919532, dev=gpu:0)\n",
            "idx=50, loss=ivy.array(1.2955518, dev=gpu:0)\n",
            "idx=51, loss=ivy.array(1.3509089, dev=gpu:0)\n",
            "idx=52, loss=ivy.array(0.9856224, dev=gpu:0)\n",
            "idx=53, loss=ivy.array(1.1738585, dev=gpu:0)\n",
            "idx=54, loss=ivy.array(1.0867659, dev=gpu:0)\n",
            "idx=55, loss=ivy.array(1.1896126, dev=gpu:0)\n",
            "idx=56, loss=ivy.array(0.89946926, dev=gpu:0)\n",
            "idx=57, loss=ivy.array(1.1034801, dev=gpu:0)\n",
            "idx=58, loss=ivy.array(1.1422911, dev=gpu:0)\n",
            "idx=59, loss=ivy.array(1.2369528, dev=gpu:0)\n",
            "idx=60, loss=ivy.array(0.97617555, dev=gpu:0)\n",
            "idx=61, loss=ivy.array(1.1785011, dev=gpu:0)\n",
            "idx=62, loss=ivy.array(1.0917164, dev=gpu:0)\n",
            "idx=63, loss=ivy.array(1.1248169, dev=gpu:0)\n",
            "idx=64, loss=ivy.array(1.14187, dev=gpu:0)\n",
            "idx=65, loss=ivy.array(1.1096206, dev=gpu:0)\n",
            "idx=66, loss=ivy.array(1.2195556, dev=gpu:0)\n",
            "idx=67, loss=ivy.array(1.1434736, dev=gpu:0)\n",
            "idx=68, loss=ivy.array(1.2371824, dev=gpu:0)\n",
            "idx=69, loss=ivy.array(0.9926691, dev=gpu:0)\n",
            "idx=70, loss=ivy.array(0.96616095, dev=gpu:0)\n",
            "idx=71, loss=ivy.array(0.9661528, dev=gpu:0)\n",
            "idx=72, loss=ivy.array(1.1571523, dev=gpu:0)\n",
            "idx=73, loss=ivy.array(1.0935532, dev=gpu:0)\n",
            "idx=74, loss=ivy.array(1.2708445, dev=gpu:0)\n",
            "idx=75, loss=ivy.array(1.2943288, dev=gpu:0)\n",
            "idx=76, loss=ivy.array(1.0818646, dev=gpu:0)\n",
            "idx=77, loss=ivy.array(1.011896, dev=gpu:0)\n",
            "idx=78, loss=ivy.array(0.9169577, dev=gpu:0)\n",
            "idx=79, loss=ivy.array(1.0071673, dev=gpu:0)\n",
            "idx=80, loss=ivy.array(1.2038679, dev=gpu:0)\n",
            "idx=81, loss=ivy.array(0.8075545, dev=gpu:0)\n",
            "idx=82, loss=ivy.array(1.1187699, dev=gpu:0)\n",
            "idx=83, loss=ivy.array(0.9678747, dev=gpu:0)\n",
            "idx=84, loss=ivy.array(0.86916363, dev=gpu:0)\n",
            "idx=85, loss=ivy.array(0.952353, dev=gpu:0)\n",
            "idx=86, loss=ivy.array(1.0307539, dev=gpu:0)\n",
            "idx=87, loss=ivy.array(0.93208563, dev=gpu:0)\n",
            "idx=88, loss=ivy.array(0.7705412, dev=gpu:0)\n",
            "idx=89, loss=ivy.array(0.98454267, dev=gpu:0)\n",
            "idx=90, loss=ivy.array(1.0304599, dev=gpu:0)\n",
            "idx=91, loss=ivy.array(0.9242926, dev=gpu:0)\n",
            "idx=92, loss=ivy.array(0.9068185, dev=gpu:0)\n",
            "idx=93, loss=ivy.array(0.84771407, dev=gpu:0)\n",
            "idx=94, loss=ivy.array(0.7533927, dev=gpu:0)\n",
            "idx=95, loss=ivy.array(0.7440373, dev=gpu:0)\n",
            "idx=96, loss=ivy.array(0.8258463, dev=gpu:0)\n",
            "idx=97, loss=ivy.array(0.8640515, dev=gpu:0)\n",
            "idx=98, loss=ivy.array(0.9588257, dev=gpu:0)\n",
            "idx=99, loss=ivy.array(0.8333953, dev=gpu:0)\n"
          ]
        }
      ]
    },
    {
      "cell_type": "code",
      "source": [
        "random_index = 3\n",
        "\n",
        "x = train_X_ivy[random_index]\n",
        "# expand hwc to nhwc\n",
        "x = ivy.expand_dims(x, axis=0)\n",
        "prediction = model(x)\n",
        "print(f'{prediction=}')\n",
        "print(f'{ivy.argmax(prediction)=}')\n",
        "print(f'{train_y_ivy[random_index]=}')"
      ],
      "metadata": {
        "colab": {
          "base_uri": "https://localhost:8080/"
        },
        "id": "bL23x8HB3zvh",
        "outputId": "65d71850-426a-40dd-f295-a55d096a265a"
      },
      "execution_count": 13,
      "outputs": [
        {
          "output_type": "stream",
          "name": "stdout",
          "text": [
            "prediction=<tf.Tensor: shape=(1, 10), dtype=float32, numpy=\n",
            "array([[0.01661658, 0.45795363, 0.01375891, 0.02212112, 0.07674823,\n",
            "        0.11106723, 0.00427043, 0.04433145, 0.24917156, 0.00396089]],\n",
            "      dtype=float32)>\n",
            "ivy.argmax(prediction)=ivy.array(1, dev=gpu:0)\n",
            "train_y_ivy[random_index]=ivy.array(1, dev=gpu:0)\n"
          ]
        },
        {
          "output_type": "stream",
          "name": "stderr",
          "text": [
            "/usr/local/lib/python3.10/dist-packages/ivy/func_wrapper.py:242: UserWarning: Creating many views will lead to overhead when performing inplace updates with this backend\n",
            "  warnings.warn(\n"
          ]
        }
      ]
    }
  ]
}